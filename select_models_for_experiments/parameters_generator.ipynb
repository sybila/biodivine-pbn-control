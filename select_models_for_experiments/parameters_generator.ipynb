{
 "cells": [
  {
   "cell_type": "code",
   "execution_count": 1,
   "outputs": [],
   "source": [
    "from pathlib import Path\n",
    "from itertools import combinations, permutations\n",
    "from tqdm import tqdm\n",
    "import os\n",
    "import random\n",
    "import biodivine_aeon as ba\n",
    "import pickle\n",
    "import math\n",
    "\n",
    "\n",
    "MODELS_FOLDER = \".\\\\models\"\n",
    "SELECTED_MODELS_EXP_1_FOLDER = \"\\\\selected_models_exp_1\"\n",
    "CARDINALITIES_DICT_PICKL_FILE = 'cardinalities.pickle'\n",
    "MAX_COMBINATIONS_NUM = 3000\n",
    "file_cache = {}\n",
    "RANDOM_SEED = 10\n",
    "aeon_files = [f for f in os.listdir(MODELS_FOLDER)]\n",
    "\n",
    "\n",
    "def load_boolean_network(file):\n",
    "    if file not in file_cache.keys():\n",
    "        file_cache[file] = Path(os.path.join(MODELS_FOLDER, file)).read_text()\n",
    "    return ba.BooleanNetwork.from_aeon(file_cache[file])\n",
    "\n",
    "\n",
    "def get_model_colours(file, variable_combination):\n",
    "    tmp_model = load_boolean_network(file)\n",
    "    for v in variable_combination:\n",
    "        # Remove variable's update function; make it unknown\n",
    "        tmp_model.set_update_function(v, None)\n",
    "\n",
    "    graph = ba.PerturbationGraph(tmp_model)\n",
    "    # The total colour of perturbed model\n",
    "    full_colours = graph.as_original().unit_colors().cardinality()\n",
    "    # 2^#vars colours come from artificial perturbation parameters (is_var_pertubred)\n",
    "    colours_from_variables = 2 ** len(graph.as_original().network().variables())\n",
    "    # The remaining colours come from model's own uncertainty\n",
    "    colours_from_params = full_colours / colours_from_variables\n",
    "    return colours_from_params"
   ],
   "metadata": {
    "collapsed": false,
    "pycharm": {
     "name": "#%%\n"
    }
   }
  },
  {
   "cell_type": "code",
   "execution_count": 58,
   "outputs": [
    {
     "name": "stdout",
     "output_type": "stream",
     "text": [
      "cardiac_witness.aeon\n"
     ]
    },
    {
     "name": "stderr",
     "output_type": "stream",
     "text": [
      "100%|██████████| 330/330 [00:02<00:00, 112.78it/s]\n"
     ]
    },
    {
     "name": "stdout",
     "output_type": "stream",
     "text": [
      "erbb_witness.aeon\n"
     ]
    },
    {
     "name": "stderr",
     "output_type": "stream",
     "text": [
      "100%|██████████| 2380/2380 [02:25<00:00, 16.36it/s] \n"
     ]
    },
    {
     "name": "stdout",
     "output_type": "stream",
     "text": [
      "mapk_witness.aeon\n"
     ]
    },
    {
     "name": "stderr",
     "output_type": "stream",
     "text": [
      "100%|██████████| 3000/3000 [18:53<00:00,  2.65it/s]\n"
     ]
    },
    {
     "name": "stdout",
     "output_type": "stream",
     "text": [
      "myeloid_witness.aeon\n"
     ]
    },
    {
     "name": "stderr",
     "output_type": "stream",
     "text": [
      "100%|██████████| 330/330 [00:06<00:00, 52.08it/s] \n"
     ]
    },
    {
     "name": "stdout",
     "output_type": "stream",
     "text": [
      "tumour_witness.aeon\n"
     ]
    },
    {
     "name": "stderr",
     "output_type": "stream",
     "text": [
      "100%|██████████| 330/330 [01:50<00:00,  2.98it/s]\n"
     ]
    }
   ],
   "source": [
    "cardinalities_dict = {}\n",
    "\n",
    "for f in aeon_files:\n",
    "    print(f)\n",
    "    model = load_boolean_network(f)\n",
    "    vars = model.variables()\n",
    "    rg = model.graph()\n",
    "\n",
    "    # Variables with 0 arity have low effect, variables over 4 could explode colours too much\n",
    "    relevant_vars = [model.get_variable_name(v) for v in vars if 0 < len(rg.regulators(v)) <= 4]\n",
    "\n",
    "    # Generate possible combinations of relevant variables\n",
    "    all_combinations = [x for x in combinations(relevant_vars, 4)]\n",
    "\n",
    "    # Make random determinisitic\n",
    "    random.seed(RANDOM_SEED)\n",
    "\n",
    "    # If there are too many combinations, select just a sample\n",
    "    combinations_to_try = all_combinations if len(all_combinations) <= MAX_COMBINATIONS_NUM else random.sample(all_combinations, MAX_COMBINATIONS_NUM)\n",
    "\n",
    "    # For every model, remember a list of colours cardinalities along with the variable combinations which cause them\n",
    "    cardinalities_dict[f] = list(tqdm(((vc, get_model_colours(f, vc)) for vc in combinations_to_try), total=len(combinations_to_try)))"
   ],
   "metadata": {
    "collapsed": false,
    "pycharm": {
     "name": "#%%\n"
    }
   }
  },
  {
   "cell_type": "code",
   "execution_count": 59,
   "outputs": [],
   "source": [
    "# Preserve results of long-running computation\n",
    "\n",
    "with open(CARDINALITIES_DICT_PICKL_FILE, 'wb') as handle:\n",
    "    pickle.dump(cardinalities_dict, handle)"
   ],
   "metadata": {
    "collapsed": false,
    "pycharm": {
     "name": "#%%\n"
    }
   }
  },
  {
   "cell_type": "code",
   "execution_count": 60,
   "outputs": [],
   "source": [
    "# Load results of long-running computation\n",
    "\n",
    "with open(CARDINALITIES_DICT_PICKL_FILE, 'rb') as handle:\n",
    "    cardinalities_dict = pickle.load(handle)"
   ],
   "metadata": {
    "collapsed": false,
    "pycharm": {
     "name": "#%%\n"
    }
   }
  },
  {
   "cell_type": "code",
   "execution_count": 61,
   "outputs": [
    {
     "name": "stdout",
     "output_type": "stream",
     "text": [
      "[21772800.0, 87091200.0, 406425600.0, 406425600.0, 87091200.0, 406425600.0, 87091200.0, 87091200.0, 1959552.0, 9144576.0, 9144576.0, 1959552.0, 9144576.0, 1959552.0, 1959552.0, 36578304.0, 36578304.0, 7838208.0, 36578304.0, 7838208.0, 7838208.0, 170698752.0, 36578304.0, 170698752.0, 36578304.0, 36578304.0, 36578304.0, 170698752.0, 36578304.0, 36578304.0, 36578304.0, 7838208.0, 7838208.0, 36578304.0, 36578304.0, 7838208.0, 21772800.0, 101606400.0, 101606400.0, 21772800.0, 101606400.0, 21772800.0, 21772800.0, 406425600.0, 406425600.0, 87091200.0, 406425600.0, 87091200.0, 87091200.0, 1896652800.0, 406425600.0, 1896652800.0, 406425600.0, 406425600.0, 406425600.0, 1896652800.0, 406425600.0, 406425600.0, 406425600.0, 87091200.0, 87091200.0, 406425600.0, 406425600.0, 87091200.0, 9144576.0, 9144576.0, 1959552.0, 9144576.0, 1959552.0, 1959552.0, 42674688.0, 9144576.0, 42674688.0, 9144576.0, 9144576.0, 9144576.0, 42674688.0, 9144576.0, 9144576.0, 9144576.0, 1959552.0, 1959552.0, 9144576.0, 9144576.0, 1959552.0, 170698752.0, 36578304.0, 170698752.0, 36578304.0, 36578304.0, 36578304.0, 170698752.0, 36578304.0, 36578304.0, 36578304.0, 7838208.0, 7838208.0, 36578304.0, 36578304.0, 7838208.0, 170698752.0, 796594176.0, 170698752.0, 170698752.0, 170698752.0, 36578304.0, 36578304.0, 170698752.0, 170698752.0, 36578304.0, 170698752.0, 36578304.0, 36578304.0, 170698752.0, 170698752.0, 36578304.0, 36578304.0, 36578304.0, 7838208.0, 36578304.0, 4665600.0, 21772800.0, 21772800.0, 4665600.0, 21772800.0, 4665600.0, 4665600.0, 87091200.0, 87091200.0, 18662400.0, 87091200.0, 18662400.0, 18662400.0, 406425600.0, 87091200.0, 406425600.0, 87091200.0, 87091200.0, 87091200.0, 406425600.0, 87091200.0, 87091200.0, 87091200.0, 18662400.0, 18662400.0, 87091200.0, 87091200.0, 18662400.0, 1959552.0, 1959552.0, 419904.0, 1959552.0, 419904.0, 419904.0, 9144576.0, 1959552.0, 9144576.0, 1959552.0, 1959552.0, 1959552.0, 9144576.0, 1959552.0, 1959552.0, 1959552.0, 419904.0, 419904.0, 1959552.0, 1959552.0, 419904.0, 36578304.0, 7838208.0, 36578304.0, 7838208.0, 7838208.0, 7838208.0, 36578304.0, 7838208.0, 7838208.0, 7838208.0, 1679616.0, 1679616.0, 7838208.0, 7838208.0, 1679616.0, 36578304.0, 170698752.0, 36578304.0, 36578304.0, 36578304.0, 7838208.0, 7838208.0, 36578304.0, 36578304.0, 7838208.0, 36578304.0, 7838208.0, 7838208.0, 36578304.0, 36578304.0, 7838208.0, 7838208.0, 7838208.0, 1679616.0, 7838208.0, 21772800.0, 21772800.0, 4665600.0, 21772800.0, 4665600.0, 4665600.0, 101606400.0, 21772800.0, 101606400.0, 21772800.0, 21772800.0, 21772800.0, 101606400.0, 21772800.0, 21772800.0, 21772800.0, 4665600.0, 4665600.0, 21772800.0, 21772800.0, 4665600.0, 406425600.0, 87091200.0, 406425600.0, 87091200.0, 87091200.0, 87091200.0, 406425600.0, 87091200.0, 87091200.0, 87091200.0, 18662400.0, 18662400.0, 87091200.0, 87091200.0, 18662400.0, 406425600.0, 1896652800.0, 406425600.0, 406425600.0, 406425600.0, 87091200.0, 87091200.0, 406425600.0, 406425600.0, 87091200.0, 406425600.0, 87091200.0, 87091200.0, 406425600.0, 406425600.0, 87091200.0, 87091200.0, 87091200.0, 18662400.0, 87091200.0, 9144576.0, 1959552.0, 9144576.0, 1959552.0, 1959552.0, 1959552.0, 9144576.0, 1959552.0, 1959552.0, 1959552.0, 419904.0, 419904.0, 1959552.0, 1959552.0, 419904.0, 9144576.0, 42674688.0, 9144576.0, 9144576.0, 9144576.0, 1959552.0, 1959552.0, 9144576.0, 9144576.0, 1959552.0, 9144576.0, 1959552.0, 1959552.0, 9144576.0, 9144576.0, 1959552.0, 1959552.0, 1959552.0, 419904.0, 1959552.0, 36578304.0, 170698752.0, 36578304.0, 36578304.0, 36578304.0, 7838208.0, 7838208.0, 36578304.0, 36578304.0, 7838208.0, 36578304.0, 7838208.0, 7838208.0, 36578304.0, 36578304.0, 7838208.0, 7838208.0, 7838208.0, 1679616.0, 7838208.0, 170698752.0, 36578304.0, 36578304.0, 170698752.0, 170698752.0, 36578304.0, 36578304.0, 36578304.0, 7838208.0, 36578304.0, 36578304.0, 36578304.0, 7838208.0, 36578304.0, 7838208.0]\n"
     ]
    }
   ],
   "source": [
    "print([y for _x,y in cardinalities_dict['myeloid_witness.aeon']])"
   ],
   "metadata": {
    "collapsed": false,
    "pycharm": {
     "name": "#%%\n"
    }
   }
  },
  {
   "cell_type": "code",
   "execution_count": 62,
   "outputs": [
    {
     "name": "stdout",
     "output_type": "stream",
     "text": [
      "{4665600.0, 18662400.0, 419904.0}\n"
     ]
    }
   ],
   "source": [
    "sets = []\n",
    "for _key, value in cardinalities_dict.items():\n",
    "    sets.append(set([y for _x,y in value]))\n",
    "\n",
    "available_colours_cardinality = set.intersection(*sets)\n",
    "print(available_colours_cardinality)"
   ],
   "metadata": {
    "collapsed": false,
    "pycharm": {
     "name": "#%%\n"
    }
   }
  },
  {
   "cell_type": "code",
   "execution_count": 63,
   "outputs": [
    {
     "name": "stdout",
     "output_type": "stream",
     "text": [
      "Colours from params 4665600.0 (2^22.153631194101663)\n",
      "cardiac_witness.aeon 36\n",
      "erbb_witness.aeon 250\n",
      "mapk_witness.aeon 210\n",
      "myeloid_witness.aeon 10\n",
      "tumour_witness.aeon 24\n",
      "Colours from params 18662400.0 (2^24.153631194101663)\n",
      "cardiac_witness.aeon 3\n",
      "erbb_witness.aeon 50\n",
      "mapk_witness.aeon 29\n",
      "myeloid_witness.aeon 10\n",
      "tumour_witness.aeon 4\n",
      "Colours from params 419904.0 (2^18.67970000576925)\n",
      "cardiac_witness.aeon 4\n",
      "erbb_witness.aeon 50\n",
      "mapk_witness.aeon 70\n",
      "myeloid_witness.aeon 10\n",
      "tumour_witness.aeon 2\n"
     ]
    }
   ],
   "source": [
    "for v in available_colours_cardinality:\n",
    "    print(f'Colours from params {v:.1f} (2^{math.log2(v)})')\n",
    "    for m in aeon_files:\n",
    "        satisfactory_var_combinations = [vc for vc, cols in cardinalities_dict[m] if cols == v]\n",
    "        print(m, len(satisfactory_var_combinations))"
   ],
   "metadata": {
    "collapsed": false,
    "pycharm": {
     "name": "#%%\n"
    }
   }
  },
  {
   "cell_type": "code",
   "execution_count": 64,
   "outputs": [],
   "source": [
    "selected_colours_cardinality = min(available_colours_cardinality)\n",
    "\n",
    "for m in aeon_files:\n",
    "    satisfactory_var_combination = [vc for vc, cols in cardinalities_dict[m] if cols == selected_colours_cardinality].pop()\n",
    "    # Generate BN again (we saved just the unknown var combinations)\n",
    "    model = load_boolean_network(m)\n",
    "    for v in satisfactory_var_combination:\n",
    "        # Remove variable's update function; make it unknown\n",
    "        model.set_update_function(v, None)\n",
    "\n",
    "    with open(f\".\\\\{SELECTED_MODELS_EXP_1_FOLDER}\\\\{m.split('_')[0]}_4unknown.aeon\", \"wb\") as handle:\n",
    "        handle.write(model.to_aeon().encode())"
   ],
   "metadata": {
    "collapsed": false,
    "pycharm": {
     "name": "#%%\n"
    }
   }
  },
  {
   "cell_type": "code",
   "execution_count": 2,
   "outputs": [
    {
     "name": "stdout",
     "output_type": "stream",
     "text": [
      "32\n"
     ]
    }
   ],
   "source": [
    "model = load_boolean_network(f\"tumour_witness.aeon\")\n",
    "vars = model.variables()\n",
    "rg = model.graph()\n",
    "print(len(vars))\n",
    "\n",
    "# Variables with 0 arity have low effect, variables over 4 could explode colours too much\n",
    "relevant_vars = [model.get_variable_name(v) for v in vars if 0 < len(rg.regulators(v)) <= 5]\n",
    "\n",
    "# Generate possible ordering of relevant variables\n",
    "all_perms = [x for x in permutations(relevant_vars, 5)]"
   ],
   "metadata": {
    "collapsed": false,
    "pycharm": {
     "name": "#%%\n"
    }
   }
  },
  {
   "cell_type": "code",
   "execution_count": 10,
   "outputs": [
    {
     "name": "stdout",
     "output_type": "stream",
     "text": [
      "AKT1 has 8 regulators and 10 targets\n",
      "AKT2 has 7 regulators and 8 targets\n",
      "Apoptosis has 8 regulators and 0 targets\n",
      "CDH1 has 6 regulators and 4 targets\n",
      "CDH2 has 1 regulators and 7 targets\n",
      "CTNNB1 has 8 regulators and 10 targets\n",
      "CellCycleArrest has 6 regulators and 0 targets\n",
      "DKK1 has 2 regulators and 1 targets\n",
      "DNAdamage has 0 regulators and 3 targets\n",
      "ECM has 0 regulators and 2 targets\n",
      "EMT has 2 regulators and 1 targets\n",
      "ERK has 5 regulators and 3 targets\n",
      "GF has 3 regulators and 4 targets\n",
      "Invasion has 3 regulators and 1 targets\n",
      "Metastasis has 1 regulators and 0 targets\n",
      "Migration has 8 regulators and 1 targets\n",
      "NICD has 6 regulators and 12 targets\n",
      "SMAD has 3 regulators and 3 targets\n",
      "SNAI1 has 6 regulators and 7 targets\n",
      "SNAI2 has 6 regulators and 5 targets\n",
      "TGFbeta has 3 regulators and 3 targets\n",
      "TWIST1 has 3 regulators and 7 targets\n",
      "VIM has 2 regulators and 1 targets\n",
      "ZEB1 has 6 regulators and 5 targets\n",
      "ZEB2 has 6 regulators and 7 targets\n",
      "miR200 has 8 regulators and 9 targets\n",
      "miR203 has 4 regulators and 7 targets\n",
      "miR34 has 8 regulators and 8 targets\n",
      "p21 has 8 regulators and 1 targets\n",
      "p53 has 8 regulators and 13 targets\n",
      "p63 has 6 regulators and 7 targets\n",
      "p73 has 5 regulators and 6 targets\n"
     ]
    }
   ],
   "source": [
    "for var in vars:\n",
    "    v = model.get_variable_name(var)\n",
    "    print(f\"{v} has {len(rg.regulators(v))} regulators and {len(rg.targets(v))} targets\")"
   ],
   "metadata": {
    "collapsed": false,
    "pycharm": {
     "name": "#%%\n"
    }
   }
  },
  {
   "cell_type": "code",
   "execution_count": 30,
   "outputs": [
    {
     "name": "stdout",
     "output_type": "stream",
     "text": [
      "17160\n"
     ]
    }
   ],
   "source": [
    "print(len(all_perms))"
   ],
   "metadata": {
    "collapsed": false,
    "pycharm": {
     "name": "#%%\n"
    }
   }
  },
  {
   "cell_type": "code",
   "execution_count": 68,
   "outputs": [],
   "source": [
    "tumour_stg = ba.SymbolicAsyncGraph(model)\n",
    "attractors = ba.find_attractors(tumour_stg)"
   ],
   "metadata": {
    "collapsed": false,
    "pycharm": {
     "name": "#%%\n"
    }
   }
  },
  {
   "cell_type": "code",
   "execution_count": 32,
   "outputs": [
    {
     "data": {
      "text/plain": "3"
     },
     "execution_count": 32,
     "metadata": {},
     "output_type": "execute_result"
    }
   ],
   "source": [
    "len(attractors)"
   ],
   "metadata": {
    "collapsed": false,
    "pycharm": {
     "name": "#%%\n"
    }
   }
  },
  {
   "cell_type": "code",
   "execution_count": 54,
   "outputs": [
    {
     "name": "stdout",
     "output_type": "stream",
     "text": [
      "VariableId(2)\n"
     ]
    }
   ],
   "source": [
    "apoptosis_ix = model.find_variable('Apoptosis')\n",
    "print(apoptosis_ix)"
   ],
   "metadata": {
    "collapsed": false,
    "pycharm": {
     "name": "#%%\n"
    }
   }
  },
  {
   "cell_type": "code",
   "execution_count": 52,
   "outputs": [
    {
     "name": "stdout",
     "output_type": "stream",
     "text": [
      "True\n",
      "True\n",
      "False\n"
     ]
    }
   ],
   "source": [
    "print(attractors[0].vertices().list_vertices()[0][2])\n",
    "print(attractors[1].vertices().list_vertices()[0][2])\n",
    "print(attractors[2].vertices().list_vertices()[0][2])"
   ],
   "metadata": {
    "collapsed": false,
    "pycharm": {
     "name": "#%%\n"
    }
   }
  },
  {
   "cell_type": "code",
   "execution_count": 77,
   "outputs": [],
   "source": [
    "selected_att = attractors[2]\n",
    "# Make random determinisitic\n",
    "random.seed(RANDOM_SEED)\n",
    "\n",
    "# If there are too many combinations, select just a sample\n",
    "permutations_to_try = all_perms if len(all_perms) <= MAX_COMBINATIONS_NUM else random.sample(all_perms, MAX_COMBINATIONS_NUM)"
   ],
   "metadata": {
    "collapsed": false,
    "pycharm": {
     "name": "#%%\n"
    }
   }
  },
  {
   "cell_type": "code",
   "execution_count": 81,
   "outputs": [
    {
     "name": "stdout",
     "output_type": "stream",
     "text": [
      "[[False, True, False, False, True, False, True, True, True, True, True, True, True, True, True, True, True, True, True, True, True, True, True, True, True, False, False, False, False, False, False, False]]\n"
     ]
    }
   ],
   "source": [
    "print(selected_att.vertices().list_vertices())"
   ],
   "metadata": {
    "collapsed": false,
    "pycharm": {
     "name": "#%%\n"
    }
   }
  },
  {
   "cell_type": "code",
   "execution_count": 85,
   "outputs": [],
   "source": [
    "def get_colours_with_attractor(pert_graph, original_attractor):\n",
    "    seed = pert_graph.vertex(original_attractor.vertices().list_vertices()[0])\n",
    "    fwd = ba.reach_fwd(pert_graph.as_perturbed(), seed)\n",
    "    bwd = ba.reach_bwd(pert_graph.as_perturbed(), seed)\n",
    "    scc = fwd.intersect(bwd)\n",
    "    not_attractor_colors = fwd.minus(scc).colors()\n",
    "    attractor = scc.minus_colors(not_attractor_colors)\n",
    "    return attractor.colors()\n",
    "\n",
    "def get_att_colours(vc, orginal_attractor):\n",
    "    print(\"a\")\n",
    "    tmp_model = load_boolean_network(f\"tumour_witness.aeon\")\n",
    "    for v in vc:\n",
    "        # Remove variable's update function; make it unknown\n",
    "        tmp_model.set_update_function(v, None)\n",
    "\n",
    "    pert_graph = ba.PerturbationGraph(tmp_model)\n",
    "    # The total colour of perturbed model's attractor\n",
    "    return get_colours_with_attractor(pert_graph, orginal_attractor).cardinality()\n",
    "\n",
    "def get_permutation_sequence(perm, original_attractor):\n",
    "    return [get_att_colours(perm[:i+1], original_attractor) for i in range(len(perm))]"
   ],
   "metadata": {
    "collapsed": false,
    "pycharm": {
     "name": "#%%\n"
    }
   }
  },
  {
   "cell_type": "code",
   "execution_count": null,
   "outputs": [],
   "source": [],
   "metadata": {
    "collapsed": false,
    "pycharm": {
     "name": "#%%\n"
    }
   }
  },
  {
   "cell_type": "code",
   "execution_count": null,
   "outputs": [
    {
     "name": "stderr",
     "output_type": "stream",
     "text": [
      "  0%|          | 1/3000 [00:19<16:18:43, 19.58s/it]"
     ]
    }
   ],
   "source": [
    "cardinalities = list(tqdm(((ps, get_permutation_sequence(ps, selected_att)) for ps in permutations_to_try), total=len(permutations_to_try)))"
   ],
   "metadata": {
    "collapsed": false,
    "pycharm": {
     "name": "#%%\n",
     "is_executing": true
    }
   }
  },
  {
   "cell_type": "code",
   "execution_count": 36,
   "outputs": [],
   "source": [
    "# import os\n",
    "# os.environ[\"PATH\"] += os.pathsep + 'C:\\\\Program Files (x86)\\\\windows_10_msbuild_Release_graphviz-5.0.1-win32\\\\Graphviz\\\\bin'"
   ],
   "metadata": {
    "collapsed": false,
    "pycharm": {
     "name": "#%%\n"
    }
   }
  }
 ],
 "metadata": {
  "kernelspec": {
   "display_name": "Python 3",
   "language": "python",
   "name": "python3"
  },
  "language_info": {
   "codemirror_mode": {
    "name": "ipython",
    "version": 2
   },
   "file_extension": ".py",
   "mimetype": "text/x-python",
   "name": "python",
   "nbconvert_exporter": "python",
   "pygments_lexer": "ipython2",
   "version": "2.7.6"
  }
 },
 "nbformat": 4,
 "nbformat_minor": 0
}